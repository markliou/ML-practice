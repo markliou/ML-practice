{
 "cells": [
  {
   "cell_type": "code",
   "execution_count": 1,
   "metadata": {},
   "outputs": [
    {
     "name": "stderr",
     "output_type": "stream",
     "text": [
      "2024-01-05 07:42:49.275601: E external/local_xla/xla/stream_executor/cuda/cuda_dnn.cc:9261] Unable to register cuDNN factory: Attempting to register factory for plugin cuDNN when one has already been registered\n",
      "2024-01-05 07:42:49.275649: E external/local_xla/xla/stream_executor/cuda/cuda_fft.cc:607] Unable to register cuFFT factory: Attempting to register factory for plugin cuFFT when one has already been registered\n",
      "2024-01-05 07:42:49.276738: E external/local_xla/xla/stream_executor/cuda/cuda_blas.cc:1515] Unable to register cuBLAS factory: Attempting to register factory for plugin cuBLAS when one has already been registered\n",
      "2024-01-05 07:42:49.283001: I tensorflow/core/platform/cpu_feature_guard.cc:182] This TensorFlow binary is optimized to use available CPU instructions in performance-critical operations.\n",
      "To enable the following instructions: AVX2 AVX512F FMA, in other operations, rebuild TensorFlow with the appropriate compiler flags.\n",
      "/usr/local/lib/python3.11/dist-packages/tqdm/auto.py:21: TqdmWarning: IProgress not found. Please update jupyter and ipywidgets. See https://ipywidgets.readthedocs.io/en/stable/user_install.html\n",
      "  from .autonotebook import tqdm as notebook_tqdm\n"
     ]
    }
   ],
   "source": [
    "import tensorflow as tf \n",
    "import tensorflow_datasets as tfds\n",
    "import numpy as np \n",
    "import jax \n",
    "import jax.numpy as jnp\n",
    "\n",
    "# change the backend of keras to jax\n",
    "import os\n",
    "os.environ[\"KERAS_BACKEND\"] = \"jax\"\n",
    "os.environ[\"XLA_PYTHON_CLIENT_ALLOCATOR\"] = \"platform\"\n",
    "os.environ[\"XLA_PYTHON_CLIENT_PREALLOCATE\"] = \"false\"\n",
    "\n",
    "import keras as k"
   ]
  },
  {
   "cell_type": "code",
   "execution_count": 2,
   "metadata": {},
   "outputs": [
    {
     "name": "stderr",
     "output_type": "stream",
     "text": [
      "2024-01-05 07:42:52.006050: I tensorflow/core/common_runtime/gpu/gpu_device.cc:1929] Created device /job:localhost/replica:0/task:0/device:GPU:0 with 10514 MB memory:  -> device: 0, name: NVIDIA GeForce GTX 1080 Ti, pci bus id: 0000:17:00.0, compute capability: 6.1\n",
      "2024-01-05 07:42:52.006629: I tensorflow/core/common_runtime/gpu/gpu_device.cc:1929] Created device /job:localhost/replica:0/task:0/device:GPU:1 with 10523 MB memory:  -> device: 1, name: NVIDIA GeForce GTX 1080 Ti, pci bus id: 0000:65:00.0, compute capability: 6.1\n"
     ]
    }
   ],
   "source": [
    "ds = tfds.load('mnist', split=\"train\", shuffle_files=True)\n",
    "ds = ds.shuffle(1024).batch(32).prefetch(tf.data.AUTOTUNE)\n",
    "dsIter = iter(ds)"
   ]
  },
  {
   "cell_type": "code",
   "execution_count": 3,
   "metadata": {},
   "outputs": [
    {
     "data": {
      "text/html": [
       "<pre style=\"white-space:pre;overflow-x:auto;line-height:normal;font-family:Menlo,'DejaVu Sans Mono',consolas,'Courier New',monospace\"><span style=\"font-weight: bold\">Model: \"functional_1\"</span>\n",
       "</pre>\n"
      ],
      "text/plain": [
       "\u001b[1mModel: \"functional_1\"\u001b[0m\n"
      ]
     },
     "metadata": {},
     "output_type": "display_data"
    },
    {
     "data": {
      "text/html": [
       "<pre style=\"white-space:pre;overflow-x:auto;line-height:normal;font-family:Menlo,'DejaVu Sans Mono',consolas,'Courier New',monospace\">┏━━━━━━━━━━━━━━━━━━━━━━━━━━━━━━━━━┳━━━━━━━━━━━━━━━━━━━━━━━━━━━┳━━━━━━━━━━━━┓\n",
       "┃<span style=\"font-weight: bold\"> Layer (type)                    </span>┃<span style=\"font-weight: bold\"> Output Shape              </span>┃<span style=\"font-weight: bold\">    Param # </span>┃\n",
       "┡━━━━━━━━━━━━━━━━━━━━━━━━━━━━━━━━━╇━━━━━━━━━━━━━━━━━━━━━━━━━━━╇━━━━━━━━━━━━┩\n",
       "│ input_layer (<span style=\"color: #0087ff; text-decoration-color: #0087ff\">InputLayer</span>)        │ (<span style=\"color: #00d7ff; text-decoration-color: #00d7ff\">None</span>, <span style=\"color: #00af00; text-decoration-color: #00af00\">28</span>, <span style=\"color: #00af00; text-decoration-color: #00af00\">28</span>, <span style=\"color: #00af00; text-decoration-color: #00af00\">1</span>)         │          <span style=\"color: #00af00; text-decoration-color: #00af00\">0</span> │\n",
       "├─────────────────────────────────┼───────────────────────────┼────────────┤\n",
       "│ conv2d (<span style=\"color: #0087ff; text-decoration-color: #0087ff\">Conv2D</span>)                 │ (<span style=\"color: #00d7ff; text-decoration-color: #00d7ff\">None</span>, <span style=\"color: #00af00; text-decoration-color: #00af00\">28</span>, <span style=\"color: #00af00; text-decoration-color: #00af00\">28</span>, <span style=\"color: #00af00; text-decoration-color: #00af00\">32</span>)        │        <span style=\"color: #00af00; text-decoration-color: #00af00\">320</span> │\n",
       "├─────────────────────────────────┼───────────────────────────┼────────────┤\n",
       "│ conv2d_1 (<span style=\"color: #0087ff; text-decoration-color: #0087ff\">Conv2D</span>)               │ (<span style=\"color: #00d7ff; text-decoration-color: #00d7ff\">None</span>, <span style=\"color: #00af00; text-decoration-color: #00af00\">28</span>, <span style=\"color: #00af00; text-decoration-color: #00af00\">28</span>, <span style=\"color: #00af00; text-decoration-color: #00af00\">32</span>)        │      <span style=\"color: #00af00; text-decoration-color: #00af00\">9,248</span> │\n",
       "├─────────────────────────────────┼───────────────────────────┼────────────┤\n",
       "│ flatten (<span style=\"color: #0087ff; text-decoration-color: #0087ff\">Flatten</span>)               │ (<span style=\"color: #00d7ff; text-decoration-color: #00d7ff\">None</span>, <span style=\"color: #00af00; text-decoration-color: #00af00\">25088</span>)             │          <span style=\"color: #00af00; text-decoration-color: #00af00\">0</span> │\n",
       "├─────────────────────────────────┼───────────────────────────┼────────────┤\n",
       "│ dense (<span style=\"color: #0087ff; text-decoration-color: #0087ff\">Dense</span>)                   │ (<span style=\"color: #00d7ff; text-decoration-color: #00d7ff\">None</span>, <span style=\"color: #00af00; text-decoration-color: #00af00\">512</span>)               │ <span style=\"color: #00af00; text-decoration-color: #00af00\">12,845,568</span> │\n",
       "├─────────────────────────────────┼───────────────────────────┼────────────┤\n",
       "│ dense_1 (<span style=\"color: #0087ff; text-decoration-color: #0087ff\">Dense</span>)                 │ (<span style=\"color: #00d7ff; text-decoration-color: #00d7ff\">None</span>, <span style=\"color: #00af00; text-decoration-color: #00af00\">256</span>)               │    <span style=\"color: #00af00; text-decoration-color: #00af00\">131,328</span> │\n",
       "├─────────────────────────────────┼───────────────────────────┼────────────┤\n",
       "│ dense_2 (<span style=\"color: #0087ff; text-decoration-color: #0087ff\">Dense</span>)                 │ (<span style=\"color: #00d7ff; text-decoration-color: #00d7ff\">None</span>, <span style=\"color: #00af00; text-decoration-color: #00af00\">10</span>)                │      <span style=\"color: #00af00; text-decoration-color: #00af00\">2,570</span> │\n",
       "└─────────────────────────────────┴───────────────────────────┴────────────┘\n",
       "</pre>\n"
      ],
      "text/plain": [
       "┏━━━━━━━━━━━━━━━━━━━━━━━━━━━━━━━━━┳━━━━━━━━━━━━━━━━━━━━━━━━━━━┳━━━━━━━━━━━━┓\n",
       "┃\u001b[1m \u001b[0m\u001b[1mLayer (type)                   \u001b[0m\u001b[1m \u001b[0m┃\u001b[1m \u001b[0m\u001b[1mOutput Shape             \u001b[0m\u001b[1m \u001b[0m┃\u001b[1m \u001b[0m\u001b[1m   Param #\u001b[0m\u001b[1m \u001b[0m┃\n",
       "┡━━━━━━━━━━━━━━━━━━━━━━━━━━━━━━━━━╇━━━━━━━━━━━━━━━━━━━━━━━━━━━╇━━━━━━━━━━━━┩\n",
       "│ input_layer (\u001b[38;5;33mInputLayer\u001b[0m)        │ (\u001b[38;5;45mNone\u001b[0m, \u001b[38;5;34m28\u001b[0m, \u001b[38;5;34m28\u001b[0m, \u001b[38;5;34m1\u001b[0m)         │          \u001b[38;5;34m0\u001b[0m │\n",
       "├─────────────────────────────────┼───────────────────────────┼────────────┤\n",
       "│ conv2d (\u001b[38;5;33mConv2D\u001b[0m)                 │ (\u001b[38;5;45mNone\u001b[0m, \u001b[38;5;34m28\u001b[0m, \u001b[38;5;34m28\u001b[0m, \u001b[38;5;34m32\u001b[0m)        │        \u001b[38;5;34m320\u001b[0m │\n",
       "├─────────────────────────────────┼───────────────────────────┼────────────┤\n",
       "│ conv2d_1 (\u001b[38;5;33mConv2D\u001b[0m)               │ (\u001b[38;5;45mNone\u001b[0m, \u001b[38;5;34m28\u001b[0m, \u001b[38;5;34m28\u001b[0m, \u001b[38;5;34m32\u001b[0m)        │      \u001b[38;5;34m9,248\u001b[0m │\n",
       "├─────────────────────────────────┼───────────────────────────┼────────────┤\n",
       "│ flatten (\u001b[38;5;33mFlatten\u001b[0m)               │ (\u001b[38;5;45mNone\u001b[0m, \u001b[38;5;34m25088\u001b[0m)             │          \u001b[38;5;34m0\u001b[0m │\n",
       "├─────────────────────────────────┼───────────────────────────┼────────────┤\n",
       "│ dense (\u001b[38;5;33mDense\u001b[0m)                   │ (\u001b[38;5;45mNone\u001b[0m, \u001b[38;5;34m512\u001b[0m)               │ \u001b[38;5;34m12,845,568\u001b[0m │\n",
       "├─────────────────────────────────┼───────────────────────────┼────────────┤\n",
       "│ dense_1 (\u001b[38;5;33mDense\u001b[0m)                 │ (\u001b[38;5;45mNone\u001b[0m, \u001b[38;5;34m256\u001b[0m)               │    \u001b[38;5;34m131,328\u001b[0m │\n",
       "├─────────────────────────────────┼───────────────────────────┼────────────┤\n",
       "│ dense_2 (\u001b[38;5;33mDense\u001b[0m)                 │ (\u001b[38;5;45mNone\u001b[0m, \u001b[38;5;34m10\u001b[0m)                │      \u001b[38;5;34m2,570\u001b[0m │\n",
       "└─────────────────────────────────┴───────────────────────────┴────────────┘\n"
      ]
     },
     "metadata": {},
     "output_type": "display_data"
    },
    {
     "data": {
      "text/html": [
       "<pre style=\"white-space:pre;overflow-x:auto;line-height:normal;font-family:Menlo,'DejaVu Sans Mono',consolas,'Courier New',monospace\"><span style=\"font-weight: bold\"> Total params: </span><span style=\"color: #00af00; text-decoration-color: #00af00\">12,989,034</span> (49.55 MB)\n",
       "</pre>\n"
      ],
      "text/plain": [
       "\u001b[1m Total params: \u001b[0m\u001b[38;5;34m12,989,034\u001b[0m (49.55 MB)\n"
      ]
     },
     "metadata": {},
     "output_type": "display_data"
    },
    {
     "data": {
      "text/html": [
       "<pre style=\"white-space:pre;overflow-x:auto;line-height:normal;font-family:Menlo,'DejaVu Sans Mono',consolas,'Courier New',monospace\"><span style=\"font-weight: bold\"> Trainable params: </span><span style=\"color: #00af00; text-decoration-color: #00af00\">12,989,034</span> (49.55 MB)\n",
       "</pre>\n"
      ],
      "text/plain": [
       "\u001b[1m Trainable params: \u001b[0m\u001b[38;5;34m12,989,034\u001b[0m (49.55 MB)\n"
      ]
     },
     "metadata": {},
     "output_type": "display_data"
    },
    {
     "data": {
      "text/html": [
       "<pre style=\"white-space:pre;overflow-x:auto;line-height:normal;font-family:Menlo,'DejaVu Sans Mono',consolas,'Courier New',monospace\"><span style=\"font-weight: bold\"> Non-trainable params: </span><span style=\"color: #00af00; text-decoration-color: #00af00\">0</span> (0.00 B)\n",
       "</pre>\n"
      ],
      "text/plain": [
       "\u001b[1m Non-trainable params: \u001b[0m\u001b[38;5;34m0\u001b[0m (0.00 B)\n"
      ]
     },
     "metadata": {},
     "output_type": "display_data"
    }
   ],
   "source": [
    "\n",
    "def cnn():\n",
    "    x = k.layers.Input([28, 28, 1])\n",
    "    c1 = k.layers.Conv2D(32, (3,3), padding=\"same\", activation=k.activations.elu)(x)\n",
    "    c2 = k.layers.Conv2D(32, (3,3), padding=\"same\", activation=k.activations.elu)(c1)\n",
    "    \n",
    "    flatten = k.layers.Flatten()(c2)\n",
    "    \n",
    "    fc1 = k.layers.Dense(512, k.activations.mish)(flatten)\n",
    "    fc2 = k.layers.Dense(256, k.activations.mish)(fc1)\n",
    "    out = k.layers.Dense(10, k.activations.mish)(fc2)\n",
    "    \n",
    "    return k.Model(inputs=x, outputs=out)\n",
    "\n",
    "model = cnn()\n",
    "model.summary()"
   ]
  },
  {
   "cell_type": "code",
   "execution_count": 4,
   "metadata": {},
   "outputs": [
    {
     "name": "stderr",
     "output_type": "stream",
     "text": [
      "2024-01-05 07:42:52.409780: I external/local_xla/xla/stream_executor/cuda/cuda_dnn.cc:454] Loaded cuDNN version 8906\n",
      "2024-01-05 07:42:52.479804: I external/local_tsl/tsl/platform/default/subprocess.cc:304] Start cannot spawn child process: No such file or directory\n",
      "2024-01-05 07:42:52.602340: I external/local_tsl/tsl/platform/default/subprocess.cc:304] Start cannot spawn child process: No such file or directory\n"
     ]
    },
    {
     "data": {
      "text/plain": [
       "<tf.Tensor: shape=(32, 10), dtype=float32, numpy=\n",
       "array([[ 0.02071405, -0.15030432, -0.13878724, -0.1331512 , -0.16221386,\n",
       "         0.01276802, -0.0264954 , -0.03873387, -0.01070647,  0.17824659],\n",
       "       [-0.12182382, -0.09863264, -0.0840658 , -0.0479426 , -0.09834213,\n",
       "         0.07368324, -0.02340131,  0.02585653, -0.11278681, -0.01680233],\n",
       "       [-0.00110923, -0.15035371, -0.15511146, -0.09201983, -0.11567782,\n",
       "        -0.0318928 , -0.05272814, -0.03362067, -0.05143017,  0.05798335],\n",
       "       [-0.06315028, -0.07172572, -0.14681861, -0.1103286 , -0.12290971,\n",
       "         0.08926432, -0.05757037,  0.02709393, -0.04096495,  0.05826386],\n",
       "       [-0.03422178, -0.12143856, -0.15902126, -0.06810808, -0.09093241,\n",
       "         0.11487636,  0.02941085,  0.00426452, -0.03224974,  0.05307007],\n",
       "       [ 0.0471933 , -0.05050071, -0.14925317, -0.11284717, -0.20329471,\n",
       "         0.09013473, -0.11240883,  0.00215976, -0.09324394, -0.00485166],\n",
       "       [-0.06528285, -0.11272226, -0.10264064, -0.05119326, -0.10393338,\n",
       "         0.0582846 , -0.0963109 ,  0.02426437, -0.10239207, -0.00487161],\n",
       "       [-0.09368405,  0.00660089, -0.07502988, -0.04841301, -0.0787857 ,\n",
       "         0.0307111 , -0.04407865, -0.0266236 , -0.05712372, -0.00822922],\n",
       "       [-0.05915702, -0.06452834, -0.15790252, -0.05467632, -0.11777266,\n",
       "         0.03816926, -0.02821131, -0.07017894, -0.14324751, -0.01102719],\n",
       "       [-0.01364269, -0.09196047, -0.07286218, -0.00516632, -0.10470088,\n",
       "        -0.10503144, -0.09646652,  0.03137744,  0.01527192,  0.11554868],\n",
       "       [-0.06996198, -0.08330189, -0.11510217, -0.05457547, -0.18134505,\n",
       "        -0.04618255, -0.03823827, -0.05303205, -0.02255914, -0.07628742],\n",
       "       [-0.02489856, -0.08385454, -0.09589428, -0.07688151, -0.198284  ,\n",
       "        -0.01925819, -0.09740655, -0.05118311,  0.00463075,  0.05798977],\n",
       "       [-0.10963379, -0.10894864, -0.10614385, -0.16773611, -0.15344167,\n",
       "        -0.0213123 , -0.06662413, -0.09507344, -0.0424547 ,  0.11649331],\n",
       "       [-0.04266901, -0.01250137, -0.06370662, -0.07695061, -0.14406084,\n",
       "        -0.00048659, -0.13185112,  0.03617599, -0.082521  ,  0.04732258],\n",
       "       [ 0.00979737, -0.06676538, -0.06930912, -0.10232309, -0.16957976,\n",
       "        -0.05647031, -0.08662951,  0.02248476, -0.06921145,  0.02917331],\n",
       "       [-0.02087345, -0.0430497 , -0.10124435, -0.09636825, -0.1784708 ,\n",
       "         0.07503261, -0.05626639, -0.04734651, -0.06361823, -0.04282963],\n",
       "       [-0.02950063, -0.08242391, -0.16901994, -0.10791843, -0.18888931,\n",
       "         0.02447983, -0.06924538, -0.04819639, -0.09912818, -0.0010291 ],\n",
       "       [-0.07271291, -0.09443482, -0.11078377, -0.13732423, -0.16081053,\n",
       "        -0.0253547 , -0.09273511, -0.06956979, -0.01724135,  0.16598582],\n",
       "       [ 0.00512295, -0.11391983, -0.11921086, -0.04842861, -0.06746852,\n",
       "        -0.09359591, -0.10522851, -0.01309085, -0.00503301,  0.02450576],\n",
       "       [ 0.00925767,  0.00470244, -0.01220246, -0.1106488 , -0.17801094,\n",
       "        -0.06876671, -0.08354239,  0.02141113, -0.06292573,  0.08627999],\n",
       "       [-0.03743616, -0.07371191, -0.17208333, -0.02890797, -0.19734898,\n",
       "         0.02610523, -0.06981963, -0.01836914, -0.07076214, -0.009292  ],\n",
       "       [-0.01464481, -0.09937731, -0.09845483, -0.09173386, -0.1419099 ,\n",
       "        -0.00021294, -0.11349601, -0.05634525,  0.01787463, -0.02116562],\n",
       "       [-0.14234746, -0.09133697, -0.16720587, -0.10995995, -0.14978051,\n",
       "        -0.02516183, -0.09400452, -0.0209788 ,  0.01395808,  0.0279965 ],\n",
       "       [ 0.04918368, -0.12709604, -0.1470897 , -0.06294562, -0.16025892,\n",
       "        -0.03950804,  0.01414058, -0.04743306, -0.04693396,  0.02654558],\n",
       "       [-0.06015072, -0.11673265, -0.15932123,  0.04348621, -0.04591613,\n",
       "         0.00156534, -0.01785284, -0.0308625 , -0.08300705,  0.03143681],\n",
       "       [-0.03583605, -0.04341703, -0.09597751, -0.05758473, -0.16168475,\n",
       "         0.07133271, -0.09068271, -0.0355044 ,  0.04735348,  0.03662331],\n",
       "       [ 0.05916788, -0.1058318 , -0.15277945, -0.11047988, -0.16629207,\n",
       "        -0.0200149 , -0.08355071, -0.05320841, -0.07156786,  0.11733019],\n",
       "       [ 0.02028514, -0.1458186 , -0.16958348, -0.02589666, -0.1583322 ,\n",
       "         0.06918545, -0.095524  , -0.03386252, -0.01644482,  0.03152099],\n",
       "       [-0.11871992, -0.14164022, -0.168919  , -0.0779634 , -0.09009355,\n",
       "         0.07694004, -0.04910545, -0.07635078, -0.05411541,  0.03223674],\n",
       "       [-0.05982609, -0.14094643, -0.12142336, -0.08917112, -0.10574257,\n",
       "         0.14641051, -0.02691444,  0.05904247, -0.12056751, -0.0436249 ],\n",
       "       [-0.03432051, -0.08924097, -0.06542963, -0.04035231, -0.15812531,\n",
       "         0.07149277, -0.08834784, -0.01553129, -0.09065673,  0.04764393],\n",
       "       [-0.04042232, -0.07330164, -0.14236142, -0.13178249, -0.19985482,\n",
       "        -0.07070009, -0.09153695, -0.01733588, -0.03227117, -0.02876554]],\n",
       "      dtype=float32)>"
      ]
     },
     "execution_count": 4,
     "metadata": {},
     "output_type": "execute_result"
    }
   ],
   "source": [
    "dsFetcher = next(dsIter)\n",
    "img = (tf.cast(dsFetcher['image'], tf.float32) - 128)/128\n",
    "model(img)"
   ]
  }
 ],
 "metadata": {
  "kernelspec": {
   "display_name": "Python 3",
   "language": "python",
   "name": "python3"
  },
  "language_info": {
   "codemirror_mode": {
    "name": "ipython",
    "version": 3
   },
   "file_extension": ".py",
   "mimetype": "text/x-python",
   "name": "python",
   "nbconvert_exporter": "python",
   "pygments_lexer": "ipython3",
   "version": "3.11.0rc1"
  },
  "orig_nbformat": 4
 },
 "nbformat": 4,
 "nbformat_minor": 2
}
