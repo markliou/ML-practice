{
 "cells": [
  {
   "cell_type": "code",
   "execution_count": 1,
   "metadata": {},
   "outputs": [],
   "source": [
    "import tensorflow as tf \n",
    "import keras as k\n",
    "from keras import ops"
   ]
  },
  {
   "cell_type": "code",
   "execution_count": 14,
   "metadata": {},
   "outputs": [],
   "source": [
    "@k.saving.register_keras_serializable(name=\"RMSNormalization\")\n",
    "class RMSNormalization(k.layers.Layer):\n",
    "    # from keras-nlp website: \n",
    "    # https://github.com/keras-team/keras-nlp/blob/master/keras_nlp/src/models/gemma/rms_normalization.py\n",
    "    # guide: https://keras.io/guides/serialization_and_saving/#config_methods\n",
    "    \n",
    "    def __init__(self, epsilon=1e-6, **kwargs):\n",
    "        super().__init__(**kwargs)\n",
    "        self.epsilon = epsilon\n",
    "        \n",
    "    def get_config(self):\n",
    "        config = super().get_config()\n",
    "        config.update({\"epsilon\": self.epsilon})\n",
    "        return config\n",
    "    \n",
    "    # @classmethod\n",
    "    # def from_config(cls, config):\n",
    "    #     # Note that you can also use [`keras.saving.deserialize_keras_object`](/api/models/model_saving_apis/serialization_utils#deserializekerasobject-function) here\n",
    "    #     return cls(**config)\n",
    "\n",
    "    def build(self, input_shape):\n",
    "        self.scale = self.add_weight(\n",
    "            name=\"scale\",\n",
    "            trainable=True,\n",
    "            shape=(input_shape[-1],),\n",
    "            initializer=\"zeros\",\n",
    "        )\n",
    "        self.built = True\n",
    "\n",
    "    def call(self, x):\n",
    "        # Always compute normalization in float32.\n",
    "        x = ops.cast(x, \"float32\")\n",
    "        scale = ops.cast(self.scale, \"float32\")\n",
    "        var = ops.mean(ops.square(x), axis=-1, keepdims=True)\n",
    "        normed_inputs = x * ops.reciprocal(ops.sqrt(var + self.epsilon))\n",
    "        normed_inputs = normed_inputs * (1 + scale)\n",
    "        return ops.cast(normed_inputs, self.compute_dtype)\n",
    "    \n",
    "def agent():\n",
    "    x = k.Input([210, 160, 3])\n",
    "    conv1 = k.layers.Conv2D(32, [7, 7], strides=[\n",
    "                            2, 2], padding=\"SAME\", kernel_regularizer=k.regularizers.L2(1e-4), activation=k.activations.mish)(x)\n",
    "    conv1 = k.layers.LayerNormalization()(conv1)\n",
    "    # conv1 = RMSNormalization()(conv1)\n",
    "    conv2 = k.layers.Conv2D(64, [5, 5], strides=[\n",
    "                            2, 2], padding=\"SAME\", kernel_regularizer=k.regularizers.L2(1e-4), activation=k.activations.mish)(conv1)\n",
    "    conv2 = k.layers.LayerNormalization()(conv2)\n",
    "    # conv2 = RMSNormalization()(conv2)\n",
    "    conv3 = k.layers.Conv2D(128, [5, 5], strides=[\n",
    "                            2, 2], padding=\"SAME\", kernel_regularizer=k.regularizers.L2(1e-4), activation=k.activations.mish)(conv2)\n",
    "    conv3 = k.layers.LayerNormalization()(conv3)\n",
    "    # conv3 = RMSNormalization()(conv3)\n",
    "    conv4 = k.layers.Conv2D(256, [3, 3], strides=[\n",
    "                            2, 2], padding=\"SAME\", kernel_regularizer=k.regularizers.L2(1e-4), activation=k.activations.mish)(conv3)\n",
    "    conv4 = k.layers.LayerNormalization()(conv4)\n",
    "    # conv4 = RMSNormalization()(conv4)\n",
    "    conv5 = k.layers.Conv2D(512, [3, 3], strides=[\n",
    "                            1, 1], padding=\"SAME\", kernel_regularizer=k.regularizers.L2(1e-4), activation=k.activations.mish)(conv4)\n",
    "    f0 = k.layers.Flatten()(conv5)\n",
    "    # f0 =  k.layers.LayerNormalization(rms_scaling=True)(f0)\n",
    "    f0 = RMSNormalization()(f0)\n",
    "    f1 = k.layers.Dense(1024, kernel_regularizer=k.regularizers.L2(1e-4), activation=k.activations.mish)(f0)\n",
    "    # f1 = k.layers.LayerNormalization(rms_scaling=True)(f1)\n",
    "    f1 = RMSNormalization()(f1)\n",
    "    f2 = k.layers.Dense(1024, kernel_regularizer=k.regularizers.L2(1e-4), activation=k.activations.mish)(f1)\n",
    "    # f2 = k.layers.LayerNormalization(rms_scaling=True)(f2)\n",
    "    f2 = RMSNormalization()(f2)\n",
    "    f3 = k.layers.Dense(1024, kernel_regularizer=k.regularizers.L2(1e-4), activation=k.activations.mish)(f2)\n",
    "    # f3 = k.layers.LayerNormalization(rms_scaling=True)(f3)\n",
    "    f3 = RMSNormalization()(f3)\n",
    "    f4 = k.layers.Dense(1024, kernel_regularizer=k.regularizers.L2(1e-4), activation=k.activations.mish)(f3)\n",
    "    # f4 = k.layers.LayerNormalization(rms_scaling=True)(f4)\n",
    "    f4 = RMSNormalization()(f4)\n",
    "    f5 = k.layers.Dense(1024, kernel_regularizer=k.regularizers.L2(1e-4), activation=k.activations.mish)(f4)\n",
    "    # f5 = k.layers.LayerNormalization(rms_scaling=True)(f5)\n",
    "    f5 = RMSNormalization()(f5)\n",
    "    f6 = k.layers.Dense(1024, kernel_regularizer=k.regularizers.L2(1e-4), activation=k.activations.mish)(f5)\n",
    "    # f6 = k.layers.LayerNormalization(rms_scaling=True)(f6)\n",
    "    f6 = RMSNormalization()(f6)\n",
    "    f7 = k.layers.Dense(1024, kernel_regularizer=k.regularizers.L2(1e-4), activation=k.activations.mish)(f6)\n",
    "    # f7 = k.layers.LayerNormalization(rms_scaling=True)(f7)\n",
    "    f7 = RMSNormalization()(f7)\n",
    "    out = k.layers.Dense(6, k.activations.softmax)(f7)\n",
    "\n",
    "    return k.Model(x, out)"
   ]
  },
  {
   "cell_type": "code",
   "execution_count": 15,
   "metadata": {},
   "outputs": [],
   "source": [
    "ag = agent()\n",
    "ag.save(\"ag.keras\")"
   ]
  },
  {
   "cell_type": "code",
   "execution_count": 16,
   "metadata": {},
   "outputs": [],
   "source": [
    "reload_ag = k.saving.load_model(\"ag.keras\")"
   ]
  }
 ],
 "metadata": {
  "kernelspec": {
   "display_name": "Python 3",
   "language": "python",
   "name": "python3"
  },
  "language_info": {
   "codemirror_mode": {
    "name": "ipython",
    "version": 3
   },
   "file_extension": ".py",
   "mimetype": "text/x-python",
   "name": "python",
   "nbconvert_exporter": "python",
   "pygments_lexer": "ipython3",
   "version": "3.11.7"
  }
 },
 "nbformat": 4,
 "nbformat_minor": 2
}
