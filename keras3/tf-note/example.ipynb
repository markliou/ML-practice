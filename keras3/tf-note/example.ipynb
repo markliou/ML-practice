{
 "cells": [
  {
   "cell_type": "code",
   "execution_count": 1,
   "metadata": {},
   "outputs": [
    {
     "name": "stderr",
     "output_type": "stream",
     "text": [
      "d:\\system_program\\python3.11\\Lib\\site-packages\\tqdm\\auto.py:21: TqdmWarning: IProgress not found. Please update jupyter and ipywidgets. See https://ipywidgets.readthedocs.io/en/stable/user_install.html\n",
      "  from .autonotebook import tqdm as notebook_tqdm\n"
     ]
    }
   ],
   "source": [
    "import tensorflow as tf \n",
    "import keras as k\n",
    "import tensorflow_datasets as tfds\n",
    "import numpy as np"
   ]
  },
  {
   "cell_type": "code",
   "execution_count": 2,
   "metadata": {},
   "outputs": [],
   "source": [
    "def sample_model():\n",
    "    x = k.layers.Input(shape=(784,))\n",
    "    l1 = k.layers.Dense(128, activation='relu')(x)\n",
    "    l2 = k.layers.Dense(128, activation='relu')(l1)\n",
    "    out = k.layers.Dense(10, activation='softmax')(l2)\n",
    "    model = k.models.Model(inputs=x, outputs=out)\n",
    "    return model\n",
    "\n",
    "model = sample_model()\n"
   ]
  },
  {
   "cell_type": "code",
   "execution_count": 3,
   "metadata": {},
   "outputs": [],
   "source": [
    "# give a try for keras model saveing and reload\n",
    "# keras3 使用 .keras作為附檔名，且儲存了模型的yaml。這波要測試是否可以不用透過宣告模型計算圖，\n",
    "# 直接讀取.keras就能運作\n",
    "\n",
    "model.save(\"sample.keras\")\n",
    "reload_model = k.models.load_model(\"sample.keras\")\n",
    "# model.summary()\n",
    "# reload_model.summary()"
   ]
  },
  {
   "cell_type": "code",
   "execution_count": 8,
   "metadata": {},
   "outputs": [],
   "source": [
    "# Prepare the training dataset.\n",
    "batch_size = 32\n",
    "(x_train, y_train), (x_test, y_test) = k.datasets.mnist.load_data()\n",
    "x_train = np.reshape(x_train, (-1, 784)).astype(\"float32\")\n",
    "x_test = np.reshape(x_test, (-1, 784)).astype(\"float32\")\n",
    "y_train = k.utils.to_categorical(y_train)\n",
    "y_test = k.utils.to_categorical(y_test)\n",
    "\n",
    "# Reserve 10,000 samples for validation.\n",
    "x_val = x_train[-10000:]\n",
    "y_val = y_train[-10000:]\n",
    "x_train = x_train[:-10000]\n",
    "y_train = y_train[:-10000]\n",
    "\n",
    "# Prepare the training dataset.\n",
    "train_dataset = tf.data.Dataset.from_tensor_slices((x_train, y_train))\n",
    "train_dataset = train_dataset.shuffle(buffer_size=1024).batch(batch_size).repeat()\n",
    "\n",
    "# Prepare the validation dataset.\n",
    "val_dataset = tf.data.Dataset.from_tensor_slices((x_val, y_val))\n",
    "val_dataset = val_dataset.batch(batch_size)\n",
    "\n",
    "train_dataset_iter = iter(train_dataset)"
   ]
  },
  {
   "cell_type": "markdown",
   "metadata": {},
   "source": [
    "loss calling in fit() will use (y_true, y_pred, sample_weight) as input, and return a scalar loss value"
   ]
  },
  {
   "cell_type": "code",
   "execution_count": 30,
   "metadata": {},
   "outputs": [],
   "source": [
    "# the loss class in keras use the API of (y_true, y_pred)\n",
    "def fitness(y_true, x):\n",
    "    y_pred = reload_model(x)\n",
    "    ce_mat = tf.math.multiply(tf.cast(y_pred, tf.float32), tf.cast(y_true, tf.float32))\n",
    "    return tf.reduce_sum(-tf.math.log(tf.reduce_sum(ce_mat, axis=-1) + 1e-8))\n",
    "\n",
    "def datasetFetchingScaling(x):\n",
    "    return(x * 2 - 1)"
   ]
  },
  {
   "cell_type": "code",
   "execution_count": 24,
   "metadata": {},
   "outputs": [
    {
     "name": "stdout",
     "output_type": "stream",
     "text": [
      "hello\n"
     ]
    },
    {
     "data": {
      "text/plain": [
       "<tf.Tensor: shape=(), dtype=float32, numpy=560.81055>"
      ]
     },
     "execution_count": 24,
     "metadata": {},
     "output_type": "execute_result"
    }
   ],
   "source": [
    "def tr_dataset_iter():\n",
    "    tr_imgs, tr_labs = next(train_dataset_iter)\n",
    "    tr_imgs = datasetFetchingScaling(tr_imgs)\n",
    "    yield (tr_labs, tr_imgs)\n",
    "tr_iter = tr_dataset_iter()\n",
    "\n",
    "tr_test_loader = next(tr_iter)\n",
    "fitness(tr_test_loader[0], tr_test_loader[1])"
   ]
  },
  {
   "cell_type": "code",
   "execution_count": 38,
   "metadata": {},
   "outputs": [
    {
     "ename": "AttributeError",
     "evalue": "'AdamW' object has no attribute 'minimize'",
     "output_type": "error",
     "traceback": [
      "\u001b[1;31m---------------------------------------------------------------------------\u001b[0m",
      "\u001b[1;31mAttributeError\u001b[0m                            Traceback (most recent call last)",
      "Cell \u001b[1;32mIn[38], line 13\u001b[0m\n\u001b[0;32m     10\u001b[0m         \u001b[38;5;28;01mreturn\u001b[39;00m fitness(labs, imgs)\n\u001b[0;32m     11\u001b[0m     opt\u001b[38;5;241m.\u001b[39mminimize(loss, reload_model\u001b[38;5;241m.\u001b[39mtrainable_variables)\n\u001b[1;32m---> 13\u001b[0m \u001b[43mtraining_step\u001b[49m\u001b[43m(\u001b[49m\u001b[43mtr_test_loader\u001b[49m\u001b[43m)\u001b[49m\n",
      "Cell \u001b[1;32mIn[38], line 11\u001b[0m, in \u001b[0;36mtraining_step\u001b[1;34m(input_data)\u001b[0m\n\u001b[0;32m      9\u001b[0m \u001b[38;5;28;01mdef\u001b[39;00m \u001b[38;5;21mloss\u001b[39m():\n\u001b[0;32m     10\u001b[0m     \u001b[38;5;28;01mreturn\u001b[39;00m fitness(labs, imgs)\n\u001b[1;32m---> 11\u001b[0m \u001b[43mopt\u001b[49m\u001b[38;5;241;43m.\u001b[39;49m\u001b[43mminimize\u001b[49m(loss, reload_model\u001b[38;5;241m.\u001b[39mtrainable_variables)\n",
      "\u001b[1;31mAttributeError\u001b[0m: 'AdamW' object has no attribute 'minimize'"
     ]
    }
   ],
   "source": [
    "opt = tf.keras.optimizers.AdamW(learning_rate=1e-4)\n",
    "\n",
    "# 放其使用fit函式，因為該函式無法覆蓋複雜的倒傳遞計算。若要依照GAN範例重寫train_step，可能會破壞原本\n",
    "# 進行distribute運算的單元。最終工程與重寫一整個customize training loop相當。\n",
    "\n",
    "# 目標先改回使用customize training step\n",
    "# Keras3把optimizer的minimize函數移除，只能使用gradient tape\n",
    "\n",
    "def training_step(input_data):\n",
    "    labs, imgs = input_data\n",
    "    def loss():\n",
    "        return fitness(labs, imgs)\n",
    "    opt.minimize(loss, reload_model.trainable_variables)\n",
    "\n",
    "training_step(tr_test_loader)"
   ]
  }
 ],
 "metadata": {
  "kernelspec": {
   "display_name": "Python 3",
   "language": "python",
   "name": "python3"
  },
  "language_info": {
   "codemirror_mode": {
    "name": "ipython",
    "version": 3
   },
   "file_extension": ".py",
   "mimetype": "text/x-python",
   "name": "python",
   "nbconvert_exporter": "python",
   "pygments_lexer": "ipython3",
   "version": "3.11.7"
  }
 },
 "nbformat": 4,
 "nbformat_minor": 2
}
