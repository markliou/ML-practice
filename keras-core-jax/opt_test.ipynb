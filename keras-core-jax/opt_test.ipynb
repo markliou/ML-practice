{
 "cells": [
  {
   "cell_type": "code",
   "execution_count": 1,
   "metadata": {},
   "outputs": [
    {
     "name": "stderr",
     "output_type": "stream",
     "text": [
      "2023-09-17 16:38:34.023518: I tensorflow/core/util/port.cc:110] oneDNN custom operations are on. You may see slightly different numerical results due to floating-point round-off errors from different computation orders. To turn them off, set the environment variable `TF_ENABLE_ONEDNN_OPTS=0`.\n",
      "2023-09-17 16:38:34.068904: I tensorflow/core/platform/cpu_feature_guard.cc:182] This TensorFlow binary is optimized to use available CPU instructions in performance-critical operations.\n",
      "To enable the following instructions: AVX2 AVX_VNNI FMA, in other operations, rebuild TensorFlow with the appropriate compiler flags.\n",
      "/usr/local/lib/python3.8/dist-packages/tqdm/auto.py:21: TqdmWarning: IProgress not found. Please update jupyter and ipywidgets. See https://ipywidgets.readthedocs.io/en/stable/user_install.html\n",
      "  from .autonotebook import tqdm as notebook_tqdm\n"
     ]
    },
    {
     "name": "stdout",
     "output_type": "stream",
     "text": [
      "Using JAX backend.\n"
     ]
    }
   ],
   "source": [
    "import tensorflow as tf \n",
    "import tensorflow_datasets as tfds\n",
    "import numpy as np \n",
    "import jax \n",
    "import jax.numpy as jnp\n",
    "\n",
    "# change the backend of keras to jax\n",
    "import os\n",
    "os.environ[\"KERAS_BACKEND\"] = \"jax\"\n",
    "\n",
    "import keras_core as kc"
   ]
  },
  {
   "cell_type": "code",
   "execution_count": 2,
   "metadata": {},
   "outputs": [
    {
     "name": "stderr",
     "output_type": "stream",
     "text": [
      "2023-09-17 16:38:37.087716: I tensorflow/compiler/xla/stream_executor/cuda/cuda_gpu_executor.cc:981] could not open file to read NUMA node: /sys/bus/pci/devices/0000:01:00.0/numa_node\n",
      "Your kernel may have been built without NUMA support.\n",
      "2023-09-17 16:38:37.095502: I tensorflow/compiler/xla/stream_executor/cuda/cuda_gpu_executor.cc:981] could not open file to read NUMA node: /sys/bus/pci/devices/0000:01:00.0/numa_node\n",
      "Your kernel may have been built without NUMA support.\n",
      "2023-09-17 16:38:37.096567: I tensorflow/compiler/xla/stream_executor/cuda/cuda_gpu_executor.cc:981] could not open file to read NUMA node: /sys/bus/pci/devices/0000:01:00.0/numa_node\n",
      "Your kernel may have been built without NUMA support.\n",
      "2023-09-17 16:38:37.100871: I tensorflow/compiler/xla/stream_executor/cuda/cuda_gpu_executor.cc:981] could not open file to read NUMA node: /sys/bus/pci/devices/0000:01:00.0/numa_node\n",
      "Your kernel may have been built without NUMA support.\n",
      "2023-09-17 16:38:37.102522: I tensorflow/compiler/xla/stream_executor/cuda/cuda_gpu_executor.cc:981] could not open file to read NUMA node: /sys/bus/pci/devices/0000:01:00.0/numa_node\n",
      "Your kernel may have been built without NUMA support.\n",
      "2023-09-17 16:38:37.104309: I tensorflow/compiler/xla/stream_executor/cuda/cuda_gpu_executor.cc:981] could not open file to read NUMA node: /sys/bus/pci/devices/0000:01:00.0/numa_node\n",
      "Your kernel may have been built without NUMA support.\n",
      "2023-09-17 16:38:38.105380: I tensorflow/compiler/xla/stream_executor/cuda/cuda_gpu_executor.cc:981] could not open file to read NUMA node: /sys/bus/pci/devices/0000:01:00.0/numa_node\n",
      "Your kernel may have been built without NUMA support.\n",
      "2023-09-17 16:38:38.106753: I tensorflow/compiler/xla/stream_executor/cuda/cuda_gpu_executor.cc:981] could not open file to read NUMA node: /sys/bus/pci/devices/0000:01:00.0/numa_node\n",
      "Your kernel may have been built without NUMA support.\n",
      "2023-09-17 16:38:38.106779: I tensorflow/core/common_runtime/gpu/gpu_device.cc:1726] Could not identify NUMA node of platform GPU id 0, defaulting to 0.  Your kernel may not have been built with NUMA support.\n",
      "2023-09-17 16:38:38.107844: I tensorflow/compiler/xla/stream_executor/cuda/cuda_gpu_executor.cc:981] could not open file to read NUMA node: /sys/bus/pci/devices/0000:01:00.0/numa_node\n",
      "Your kernel may have been built without NUMA support.\n",
      "2023-09-17 16:38:38.107901: W tensorflow/core/common_runtime/gpu/gpu_bfc_allocator.cc:47] Overriding orig_value setting because the TF_FORCE_GPU_ALLOW_GROWTH environment variable is set. Original config value was 0.\n",
      "2023-09-17 16:38:38.107986: I tensorflow/core/common_runtime/gpu/gpu_device.cc:1639] Created device /job:localhost/replica:0/task:0/device:GPU:0 with 1505 MB memory:  -> device: 0, name: NVIDIA GeForce RTX 3050 Ti Laptop GPU, pci bus id: 0000:01:00.0, compute capability: 8.6\n"
     ]
    }
   ],
   "source": [
    "ds = tfds.load('mnist', split=\"train\", shuffle_files=True)\n",
    "ds = ds.shuffle(1024).batch(32).prefetch(tf.data.AUTOTUNE)\n",
    "dsIter = iter(ds)"
   ]
  },
  {
   "cell_type": "code",
   "execution_count": 3,
   "metadata": {},
   "outputs": [
    {
     "data": {
      "text/html": [
       "<pre style=\"white-space:pre;overflow-x:auto;line-height:normal;font-family:Menlo,'DejaVu Sans Mono',consolas,'Courier New',monospace\"><span style=\"font-weight: bold\">Model: \"functional_1\"</span>\n",
       "</pre>\n"
      ],
      "text/plain": [
       "\u001b[1mModel: \"functional_1\"\u001b[0m\n"
      ]
     },
     "metadata": {},
     "output_type": "display_data"
    },
    {
     "data": {
      "text/html": [
       "<pre style=\"white-space:pre;overflow-x:auto;line-height:normal;font-family:Menlo,'DejaVu Sans Mono',consolas,'Courier New',monospace\">┏━━━━━━━━━━━━━━━━━━━━━━━━━━━━━━━━━┳━━━━━━━━━━━━━━━━━━━━━━━━━━━┳━━━━━━━━━━━━┓\n",
       "┃<span style=\"font-weight: bold\"> Layer (type)                    </span>┃<span style=\"font-weight: bold\"> Output Shape              </span>┃<span style=\"font-weight: bold\">    Param # </span>┃\n",
       "┡━━━━━━━━━━━━━━━━━━━━━━━━━━━━━━━━━╇━━━━━━━━━━━━━━━━━━━━━━━━━━━╇━━━━━━━━━━━━┩\n",
       "│ input_layer (<span style=\"color: #0087ff; text-decoration-color: #0087ff\">InputLayer</span>)        │ (<span style=\"color: #00d7ff; text-decoration-color: #00d7ff\">None</span>, <span style=\"color: #00af00; text-decoration-color: #00af00\">28</span>, <span style=\"color: #00af00; text-decoration-color: #00af00\">28</span>, <span style=\"color: #00af00; text-decoration-color: #00af00\">1</span>)         │          <span style=\"color: #00af00; text-decoration-color: #00af00\">0</span> │\n",
       "├─────────────────────────────────┼───────────────────────────┼────────────┤\n",
       "│ conv2d (<span style=\"color: #0087ff; text-decoration-color: #0087ff\">Conv2D</span>)                 │ (<span style=\"color: #00d7ff; text-decoration-color: #00d7ff\">None</span>, <span style=\"color: #00af00; text-decoration-color: #00af00\">28</span>, <span style=\"color: #00af00; text-decoration-color: #00af00\">28</span>, <span style=\"color: #00af00; text-decoration-color: #00af00\">32</span>)        │        <span style=\"color: #00af00; text-decoration-color: #00af00\">320</span> │\n",
       "├─────────────────────────────────┼───────────────────────────┼────────────┤\n",
       "│ conv2d_1 (<span style=\"color: #0087ff; text-decoration-color: #0087ff\">Conv2D</span>)               │ (<span style=\"color: #00d7ff; text-decoration-color: #00d7ff\">None</span>, <span style=\"color: #00af00; text-decoration-color: #00af00\">28</span>, <span style=\"color: #00af00; text-decoration-color: #00af00\">28</span>, <span style=\"color: #00af00; text-decoration-color: #00af00\">32</span>)        │      <span style=\"color: #00af00; text-decoration-color: #00af00\">9,248</span> │\n",
       "├─────────────────────────────────┼───────────────────────────┼────────────┤\n",
       "│ flatten (<span style=\"color: #0087ff; text-decoration-color: #0087ff\">Flatten</span>)               │ (<span style=\"color: #00d7ff; text-decoration-color: #00d7ff\">None</span>, <span style=\"color: #00af00; text-decoration-color: #00af00\">25088</span>)             │          <span style=\"color: #00af00; text-decoration-color: #00af00\">0</span> │\n",
       "├─────────────────────────────────┼───────────────────────────┼────────────┤\n",
       "│ dense (<span style=\"color: #0087ff; text-decoration-color: #0087ff\">Dense</span>)                   │ (<span style=\"color: #00d7ff; text-decoration-color: #00d7ff\">None</span>, <span style=\"color: #00af00; text-decoration-color: #00af00\">512</span>)               │ <span style=\"color: #00af00; text-decoration-color: #00af00\">12,845,568</span> │\n",
       "├─────────────────────────────────┼───────────────────────────┼────────────┤\n",
       "│ dense_1 (<span style=\"color: #0087ff; text-decoration-color: #0087ff\">Dense</span>)                 │ (<span style=\"color: #00d7ff; text-decoration-color: #00d7ff\">None</span>, <span style=\"color: #00af00; text-decoration-color: #00af00\">256</span>)               │    <span style=\"color: #00af00; text-decoration-color: #00af00\">131,328</span> │\n",
       "├─────────────────────────────────┼───────────────────────────┼────────────┤\n",
       "│ dense_2 (<span style=\"color: #0087ff; text-decoration-color: #0087ff\">Dense</span>)                 │ (<span style=\"color: #00d7ff; text-decoration-color: #00d7ff\">None</span>, <span style=\"color: #00af00; text-decoration-color: #00af00\">10</span>)                │      <span style=\"color: #00af00; text-decoration-color: #00af00\">2,570</span> │\n",
       "└─────────────────────────────────┴───────────────────────────┴────────────┘\n",
       "</pre>\n"
      ],
      "text/plain": [
       "┏━━━━━━━━━━━━━━━━━━━━━━━━━━━━━━━━━┳━━━━━━━━━━━━━━━━━━━━━━━━━━━┳━━━━━━━━━━━━┓\n",
       "┃\u001b[1m \u001b[0m\u001b[1mLayer (type)                   \u001b[0m\u001b[1m \u001b[0m┃\u001b[1m \u001b[0m\u001b[1mOutput Shape             \u001b[0m\u001b[1m \u001b[0m┃\u001b[1m \u001b[0m\u001b[1m   Param #\u001b[0m\u001b[1m \u001b[0m┃\n",
       "┡━━━━━━━━━━━━━━━━━━━━━━━━━━━━━━━━━╇━━━━━━━━━━━━━━━━━━━━━━━━━━━╇━━━━━━━━━━━━┩\n",
       "│ input_layer (\u001b[38;5;33mInputLayer\u001b[0m)        │ (\u001b[38;5;45mNone\u001b[0m, \u001b[38;5;34m28\u001b[0m, \u001b[38;5;34m28\u001b[0m, \u001b[38;5;34m1\u001b[0m)         │          \u001b[38;5;34m0\u001b[0m │\n",
       "├─────────────────────────────────┼───────────────────────────┼────────────┤\n",
       "│ conv2d (\u001b[38;5;33mConv2D\u001b[0m)                 │ (\u001b[38;5;45mNone\u001b[0m, \u001b[38;5;34m28\u001b[0m, \u001b[38;5;34m28\u001b[0m, \u001b[38;5;34m32\u001b[0m)        │        \u001b[38;5;34m320\u001b[0m │\n",
       "├─────────────────────────────────┼───────────────────────────┼────────────┤\n",
       "│ conv2d_1 (\u001b[38;5;33mConv2D\u001b[0m)               │ (\u001b[38;5;45mNone\u001b[0m, \u001b[38;5;34m28\u001b[0m, \u001b[38;5;34m28\u001b[0m, \u001b[38;5;34m32\u001b[0m)        │      \u001b[38;5;34m9,248\u001b[0m │\n",
       "├─────────────────────────────────┼───────────────────────────┼────────────┤\n",
       "│ flatten (\u001b[38;5;33mFlatten\u001b[0m)               │ (\u001b[38;5;45mNone\u001b[0m, \u001b[38;5;34m25088\u001b[0m)             │          \u001b[38;5;34m0\u001b[0m │\n",
       "├─────────────────────────────────┼───────────────────────────┼────────────┤\n",
       "│ dense (\u001b[38;5;33mDense\u001b[0m)                   │ (\u001b[38;5;45mNone\u001b[0m, \u001b[38;5;34m512\u001b[0m)               │ \u001b[38;5;34m12,845,568\u001b[0m │\n",
       "├─────────────────────────────────┼───────────────────────────┼────────────┤\n",
       "│ dense_1 (\u001b[38;5;33mDense\u001b[0m)                 │ (\u001b[38;5;45mNone\u001b[0m, \u001b[38;5;34m256\u001b[0m)               │    \u001b[38;5;34m131,328\u001b[0m │\n",
       "├─────────────────────────────────┼───────────────────────────┼────────────┤\n",
       "│ dense_2 (\u001b[38;5;33mDense\u001b[0m)                 │ (\u001b[38;5;45mNone\u001b[0m, \u001b[38;5;34m10\u001b[0m)                │      \u001b[38;5;34m2,570\u001b[0m │\n",
       "└─────────────────────────────────┴───────────────────────────┴────────────┘\n"
      ]
     },
     "metadata": {},
     "output_type": "display_data"
    },
    {
     "data": {
      "text/html": [
       "<pre style=\"white-space:pre;overflow-x:auto;line-height:normal;font-family:Menlo,'DejaVu Sans Mono',consolas,'Courier New',monospace\"><span style=\"font-weight: bold\"> Total params: </span><span style=\"color: #00af00; text-decoration-color: #00af00\">12,989,034</span> (49.55 MB)\n",
       "</pre>\n"
      ],
      "text/plain": [
       "\u001b[1m Total params: \u001b[0m\u001b[38;5;34m12,989,034\u001b[0m (49.55 MB)\n"
      ]
     },
     "metadata": {},
     "output_type": "display_data"
    },
    {
     "data": {
      "text/html": [
       "<pre style=\"white-space:pre;overflow-x:auto;line-height:normal;font-family:Menlo,'DejaVu Sans Mono',consolas,'Courier New',monospace\"><span style=\"font-weight: bold\"> Trainable params: </span><span style=\"color: #00af00; text-decoration-color: #00af00\">12,989,034</span> (49.55 MB)\n",
       "</pre>\n"
      ],
      "text/plain": [
       "\u001b[1m Trainable params: \u001b[0m\u001b[38;5;34m12,989,034\u001b[0m (49.55 MB)\n"
      ]
     },
     "metadata": {},
     "output_type": "display_data"
    },
    {
     "data": {
      "text/html": [
       "<pre style=\"white-space:pre;overflow-x:auto;line-height:normal;font-family:Menlo,'DejaVu Sans Mono',consolas,'Courier New',monospace\"><span style=\"font-weight: bold\"> Non-trainable params: </span><span style=\"color: #00af00; text-decoration-color: #00af00\">0</span> (0.00 B)\n",
       "</pre>\n"
      ],
      "text/plain": [
       "\u001b[1m Non-trainable params: \u001b[0m\u001b[38;5;34m0\u001b[0m (0.00 B)\n"
      ]
     },
     "metadata": {},
     "output_type": "display_data"
    }
   ],
   "source": [
    "\n",
    "def cnn():\n",
    "    x = kc.layers.Input([28, 28, 1])\n",
    "    c1 = kc.layers.Conv2D(32, (3,3), padding=\"same\", activation=kc.activations.elu)(x)\n",
    "    c2 = kc.layers.Conv2D(32, (3,3), padding=\"same\", activation=kc.activations.elu)(c1)\n",
    "    \n",
    "    flatten = kc.layers.Flatten()(c2)\n",
    "    \n",
    "    fc1 = kc.layers.Dense(512, kc.activations.mish)(flatten)\n",
    "    fc2 = kc.layers.Dense(256, kc.activations.mish)(fc1)\n",
    "    out = kc.layers.Dense(10, kc.activations.mish)(fc2)\n",
    "    \n",
    "    return kc.Model(inputs=x, outputs=out)\n",
    "\n",
    "model = cnn()\n",
    "model.summary()"
   ]
  },
  {
   "cell_type": "code",
   "execution_count": 4,
   "metadata": {},
   "outputs": [
    {
     "data": {
      "text/plain": [
       "Array([[ 6.22420199e-02, -2.80661676e-02, -3.74503136e-02,\n",
       "         8.35650638e-02, -8.57112706e-02,  5.02679572e-02,\n",
       "        -1.15435133e-02, -3.29992697e-02,  2.10827086e-02,\n",
       "         1.19653381e-01],\n",
       "       [-1.75538636e-03, -9.19433981e-02,  1.58181619e-02,\n",
       "         4.24447656e-02, -1.12760969e-01,  3.81765403e-02,\n",
       "         3.49016897e-02, -5.32594323e-02, -8.14591348e-02,\n",
       "         9.55777690e-02],\n",
       "       [ 5.65132909e-02, -7.18830600e-02, -1.47164175e-02,\n",
       "         8.59369785e-02, -1.45835981e-01,  6.08097725e-02,\n",
       "         1.88168064e-01, -2.00289413e-02,  4.88493033e-02,\n",
       "         2.63666391e-01],\n",
       "       [ 1.13367341e-01, -1.26303528e-02, -5.14497273e-02,\n",
       "         6.03842735e-02, -9.06155109e-02, -5.33444732e-02,\n",
       "         2.02173889e-02, -3.34802680e-02,  8.86093602e-02,\n",
       "         1.96196184e-01],\n",
       "       [-9.51141026e-03, -1.24743190e-02,  4.45703864e-02,\n",
       "         1.11030536e-02,  2.35731807e-02,  5.47692329e-02,\n",
       "         3.92927136e-03, -1.07513264e-01, -1.24888323e-01,\n",
       "         1.61347166e-01],\n",
       "       [ 7.40444064e-02, -8.14306065e-02, -6.91142380e-02,\n",
       "         1.34422779e-02, -7.54179135e-02, -8.59854184e-03,\n",
       "         2.07797829e-02, -6.10490739e-02, -1.66525207e-02,\n",
       "         1.98476389e-01],\n",
       "       [ 3.46120149e-02, -5.15032224e-02, -4.16295454e-02,\n",
       "         2.97815781e-02, -3.09617296e-02, -9.82905403e-02,\n",
       "         1.09949455e-01, -1.18928656e-01, -3.77112329e-02,\n",
       "         1.32896766e-01],\n",
       "       [ 4.96796854e-02, -1.01919189e-01,  1.37056112e-02,\n",
       "         9.88047272e-02, -1.12536542e-01,  4.41652909e-02,\n",
       "         2.55105365e-02, -1.58080999e-02, -6.38705343e-02,\n",
       "         1.34451792e-01],\n",
       "       [ 8.21041409e-03,  2.14244109e-02, -5.28806224e-02,\n",
       "         6.50783479e-02, -1.78512726e-02,  3.26959603e-02,\n",
       "         7.19318986e-02, -1.49396852e-01, -5.97831793e-02,\n",
       "         1.41821325e-01],\n",
       "       [ 2.89979111e-02, -1.14264777e-02, -6.27708286e-02,\n",
       "         9.42610204e-02, -8.24439079e-02,  4.26200777e-03,\n",
       "         5.17417081e-02, -8.38775262e-02, -6.36496246e-02,\n",
       "         1.22727126e-01],\n",
       "       [ 1.27126470e-01,  1.79464184e-02, -6.62440807e-02,\n",
       "         2.73948647e-02,  9.85219982e-03, -3.67632024e-02,\n",
       "        -2.34823991e-02, -4.85587306e-02,  1.03089280e-01,\n",
       "         1.89851090e-01],\n",
       "       [ 6.77247867e-02,  1.48712555e-02, -6.69412985e-02,\n",
       "         7.48692593e-03, -9.97222885e-02, -6.93140849e-02,\n",
       "         5.47439680e-02, -5.69424182e-02,  4.73117903e-02,\n",
       "         8.34232643e-02],\n",
       "       [ 1.15600228e-01, -7.03106029e-03, -6.67594150e-02,\n",
       "         5.61846755e-02, -8.13806280e-02, -6.81575015e-02,\n",
       "         1.20518180e-02, -5.95179200e-02,  4.60717641e-02,\n",
       "         1.58992246e-01],\n",
       "       [ 1.13069355e-01, -3.23713273e-02, -9.52913538e-02,\n",
       "         1.15041606e-01, -1.09357864e-01, -1.12800510e-03,\n",
       "         5.58587946e-02, -1.05458841e-01, -3.33911031e-02,\n",
       "         2.20187847e-02],\n",
       "       [-2.87350127e-03, -5.06708361e-02,  3.11954971e-02,\n",
       "        -3.74149461e-03, -4.60107736e-02,  1.04095690e-01,\n",
       "         1.22286588e-01, -2.26827152e-02, -6.83472455e-02,\n",
       "         3.00186545e-01],\n",
       "       [ 4.45707217e-02, -1.71806738e-02, -9.34657678e-02,\n",
       "         1.49304550e-02, -3.24088819e-02, -8.49000514e-02,\n",
       "         1.90928206e-02, -9.50403884e-02,  6.48236796e-02,\n",
       "         1.22992940e-01],\n",
       "       [ 1.30503207e-01, -1.93786254e-05, -1.08928725e-01,\n",
       "         5.58395423e-02, -9.76025462e-02, -3.82302776e-02,\n",
       "         1.19571231e-01, -8.96047875e-02,  2.37758514e-02,\n",
       "         7.85294399e-02],\n",
       "       [ 4.96102087e-02,  2.19859183e-02,  9.91226360e-03,\n",
       "        -2.93465462e-02, -5.10500856e-02, -2.61058621e-02,\n",
       "         8.76113400e-03, -1.58043370e-01, -5.47461547e-02,\n",
       "         1.79998115e-01],\n",
       "       [ 1.29219860e-01, -2.70002130e-02, -7.06463680e-02,\n",
       "         6.45709336e-02, -5.41621149e-02,  2.09228341e-02,\n",
       "         1.33507341e-01, -6.45568445e-02,  8.69243145e-02,\n",
       "         9.24622193e-02],\n",
       "       [ 1.05082616e-01, -3.37632634e-02, -3.23117264e-02,\n",
       "         5.51875867e-02, -1.33531213e-01, -3.29827257e-02,\n",
       "         7.84166530e-02, -3.69365998e-02,  1.75690297e-02,\n",
       "         1.77957624e-01],\n",
       "       [ 1.71017200e-02,  9.44878627e-03, -5.21399900e-02,\n",
       "         9.24884602e-02, -3.30865011e-02, -1.67145347e-03,\n",
       "         7.98067153e-02, -9.04621556e-02, -8.71533602e-02,\n",
       "         1.93420961e-01],\n",
       "       [ 7.68093541e-02, -8.10806639e-03, -7.31385052e-02,\n",
       "         4.19737771e-02, -7.87207708e-02, -7.75248110e-02,\n",
       "        -7.52796698e-03, -3.01389843e-02, -2.73539987e-03,\n",
       "         1.66432530e-01],\n",
       "       [ 8.18916112e-02, -4.71100323e-02,  4.24138792e-02,\n",
       "         8.66558403e-02, -2.62776129e-02,  1.69374228e-01,\n",
       "         9.64593515e-02, -7.21364096e-02, -2.03442425e-02,\n",
       "         1.76274970e-01],\n",
       "       [ 9.23462808e-02, -7.55138770e-02,  6.70034289e-02,\n",
       "         9.60384011e-02, -1.02193892e-01,  8.31859633e-02,\n",
       "         3.80939133e-02, -4.70601059e-02, -7.19365999e-02,\n",
       "         1.99975789e-01],\n",
       "       [ 5.78981973e-02, -1.86526719e-02,  9.32025816e-03,\n",
       "        -5.83956949e-02, -1.16518876e-02, -3.70024368e-02,\n",
       "         4.72865887e-02, -1.01317875e-01,  5.31177185e-02,\n",
       "         1.15688480e-01],\n",
       "       [-3.14644501e-02,  5.90379164e-03, -2.71476135e-02,\n",
       "         2.87502892e-02, -9.12506580e-02,  4.78479196e-04,\n",
       "        -3.12226769e-02, -8.67410228e-02, -1.40447728e-02,\n",
       "         2.99278855e-01],\n",
       "       [ 1.55684099e-01, -5.72963916e-02, -6.73146397e-02,\n",
       "         6.42174203e-03, -1.06417993e-02, -4.62096883e-03,\n",
       "         5.20928875e-02, -1.15188561e-01, -4.01071366e-03,\n",
       "         1.57958820e-01],\n",
       "       [ 5.33365272e-02, -3.23720723e-02, -9.62315798e-02,\n",
       "         4.47965749e-02, -1.59664169e-01, -1.08467583e-02,\n",
       "         8.83522779e-02, -1.11861132e-01, -6.29976159e-03,\n",
       "         1.08798370e-01],\n",
       "       [ 1.50370359e-01, -9.93816629e-02,  3.06973606e-02,\n",
       "         1.52327091e-01,  1.94747206e-02,  3.32778762e-03,\n",
       "         4.67469729e-02, -1.13345861e-01, -9.56711322e-02,\n",
       "         2.15774146e-03],\n",
       "       [ 1.66838281e-02, -7.01744668e-03, -5.27932658e-04,\n",
       "         1.06048077e-01, -4.37749662e-02,  4.92075495e-02,\n",
       "         1.21536367e-01, -3.25691923e-02, -1.37503678e-02,\n",
       "         2.10603908e-01],\n",
       "       [-2.46150680e-02,  6.89442176e-03, -2.18365137e-02,\n",
       "        -4.49537067e-03,  9.48363692e-02, -7.38425329e-02,\n",
       "        -1.79576054e-02, -1.03732295e-01, -6.33147657e-02,\n",
       "         5.41915335e-02],\n",
       "       [ 1.19107962e-01,  8.52195621e-02, -1.59125403e-02,\n",
       "         8.48064125e-02, -1.99292779e-01,  8.36974606e-02,\n",
       "         9.49010700e-02, -3.72833870e-02, -7.25497901e-02,\n",
       "         7.55994022e-02]], dtype=float32)"
      ]
     },
     "execution_count": 4,
     "metadata": {},
     "output_type": "execute_result"
    }
   ],
   "source": [
    "dsFetcher = next(dsIter)\n",
    "img = (tf.cast(dsFetcher['image'], tf.float32) - 128)/128\n",
    "model(img)"
   ]
  }
 ],
 "metadata": {
  "kernelspec": {
   "display_name": "Python 3",
   "language": "python",
   "name": "python3"
  },
  "language_info": {
   "codemirror_mode": {
    "name": "ipython",
    "version": 3
   },
   "file_extension": ".py",
   "mimetype": "text/x-python",
   "name": "python",
   "nbconvert_exporter": "python",
   "pygments_lexer": "ipython3",
   "version": "3.8.10"
  },
  "orig_nbformat": 4
 },
 "nbformat": 4,
 "nbformat_minor": 2
}
