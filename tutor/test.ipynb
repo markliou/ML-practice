{
 "cells": [
  {
   "cell_type": "code",
   "execution_count": 1,
   "metadata": {},
   "outputs": [
    {
     "name": "stderr",
     "output_type": "stream",
     "text": [
      "2023-10-09 09:44:19.104839: I tensorflow/core/util/port.cc:110] oneDNN custom operations are on. You may see slightly different numerical results due to floating-point round-off errors from different computation orders. To turn them off, set the environment variable `TF_ENABLE_ONEDNN_OPTS=0`.\n",
      "2023-10-09 09:44:19.147466: I tensorflow/core/platform/cpu_feature_guard.cc:182] This TensorFlow binary is optimized to use available CPU instructions in performance-critical operations.\n",
      "To enable the following instructions: AVX2 AVX_VNNI FMA, in other operations, rebuild TensorFlow with the appropriate compiler flags.\n",
      "/usr/local/lib/python3.11/dist-packages/tqdm/auto.py:21: TqdmWarning: IProgress not found. Please update jupyter and ipywidgets. See https://ipywidgets.readthedocs.io/en/stable/user_install.html\n",
      "  from .autonotebook import tqdm as notebook_tqdm\n"
     ]
    }
   ],
   "source": [
    "import tensorflow as tf \n",
    "import tensorflow_datasets as tfds\n",
    "import numpy as np \n",
    "\n",
    "def get_mnist_iter(tr_bs=32, ts_bs=32):\n",
    "    train_size = 60000\n",
    "    test_size = 10000\n",
    "    (tr, tr_y), (ts, ts_y) = tf.keras.datasets.mnist.load_data()\n",
    "    tr, ts = tf.reshape(tr, [-1, 28, 28, 1]), tf.reshape(ts, [-1, 28, 28, 1])\n",
    "    tr_y, ts_y = tf.reshape(tr_y, [-1, 1]), tf.reshape(ts_y, [-1, 1])\n",
    "    tr_dataset = tf.data.Dataset.from_tensor_slices({'images':tr, 'labels':tr_y})\n",
    "    tr_dataset = tr_dataset.shuffle(train_size).batch(tr_bs, drop_remainder=True)\n",
    "    ts_dataset = tf.data.Dataset.from_tensor_slices({'images':ts, 'labels':ts_y})\n",
    "    ts_dataset = ts_dataset.shuffle(test_size).batch(ts_bs, drop_remainder=True)\n",
    "    return(tr_dataset.as_numpy_iterator(), ts_dataset.as_numpy_iterator())\n",
    "pass \n",
    "\n",
    "def CNN():\n",
    "    x = tf.keras.Input([28, 28, 1])\n",
    "    e1 = tf.keras.layers.Conv2D(16, (3,3), padding=\"SAME\", strides=(2,2), activation=tf.nn.relu)(x) #[14,14]\n",
    "    e1 = tf.keras.layers.Conv2D(16, (3,3), padding=\"SAME\", strides=(1,1), activation=tf.nn.relu)(e1) #[14,14]\n",
    "    e1 = tf.keras.layers.Conv2D(16, (3,3), padding=\"SAME\", strides=(1,1), activation=tf.nn.relu)(e1) #[14,14]\n",
    "    e2 = tf.keras.layers.Conv2D(32, (3,3), padding=\"SAME\", strides=(2,2), activation=tf.nn.relu)(e1) #[7,7]\n",
    "    e2 = tf.keras.layers.Conv2D(32, (3,3), padding=\"SAME\", strides=(1,1), activation=tf.nn.relu)(e2) #[7,7]\n",
    "    e2 = tf.keras.layers.Conv2D(32, (3,3), padding=\"SAME\", strides=(1,1), activation=tf.nn.relu)(e2) #[7,7]\n",
    "    e3 = tf.keras.layers.Conv2D(64, (3,3), padding=\"SAME\", strides=(2,2), activation=tf.nn.relu)(e2) #[4,4]\n",
    "    e3 = tf.keras.layers.Conv2D(64, (3,3), padding=\"SAME\", strides=(1,1), activation=tf.nn.relu)(e3) #[4,4]\n",
    "    e3 = tf.keras.layers.Conv2D(64, (3,3), padding=\"SAME\", strides=(1,1), activation=tf.nn.relu)(e3) #[4,4]\n",
    "    \n",
    "    fc = tf.keras.layers.Flatten()(e3)\n",
    "    fc1 = tf.keras.layers.Dense(128, activation=tf.nn.relu)(fc)\n",
    "    fc2 = tf.keras.layers.Dense(64, activation=tf.nn.relu)(fc1)\n",
    "    fc3 = tf.keras.layers.Dense(32, activation=tf.nn.relu)(fc2)\n",
    "    \n",
    "    out = tf.keras.layers.Dense(10, activation=tf.nn.softmax)(fc3)\n",
    "    \n",
    "    return tf.keras.Model(inputs=x, outputs=out)\n",
    "pass "
   ]
  },
  {
   "cell_type": "code",
   "execution_count": 2,
   "metadata": {},
   "outputs": [
    {
     "name": "stderr",
     "output_type": "stream",
     "text": [
      "2023-10-09 09:44:25.378070: I tensorflow/compiler/xla/stream_executor/cuda/cuda_gpu_executor.cc:981] could not open file to read NUMA node: /sys/bus/pci/devices/0000:01:00.0/numa_node\n",
      "Your kernel may have been built without NUMA support.\n",
      "2023-10-09 09:44:25.386521: I tensorflow/compiler/xla/stream_executor/cuda/cuda_gpu_executor.cc:981] could not open file to read NUMA node: /sys/bus/pci/devices/0000:01:00.0/numa_node\n",
      "Your kernel may have been built without NUMA support.\n",
      "2023-10-09 09:44:25.387871: I tensorflow/compiler/xla/stream_executor/cuda/cuda_gpu_executor.cc:981] could not open file to read NUMA node: /sys/bus/pci/devices/0000:01:00.0/numa_node\n",
      "Your kernel may have been built without NUMA support.\n",
      "2023-10-09 09:44:25.395162: I tensorflow/compiler/xla/stream_executor/cuda/cuda_gpu_executor.cc:981] could not open file to read NUMA node: /sys/bus/pci/devices/0000:01:00.0/numa_node\n",
      "Your kernel may have been built without NUMA support.\n",
      "2023-10-09 09:44:25.396941: I tensorflow/compiler/xla/stream_executor/cuda/cuda_gpu_executor.cc:981] could not open file to read NUMA node: /sys/bus/pci/devices/0000:01:00.0/numa_node\n",
      "Your kernel may have been built without NUMA support.\n",
      "2023-10-09 09:44:25.398423: I tensorflow/compiler/xla/stream_executor/cuda/cuda_gpu_executor.cc:981] could not open file to read NUMA node: /sys/bus/pci/devices/0000:01:00.0/numa_node\n",
      "Your kernel may have been built without NUMA support.\n",
      "2023-10-09 09:44:26.257345: I tensorflow/compiler/xla/stream_executor/cuda/cuda_gpu_executor.cc:981] could not open file to read NUMA node: /sys/bus/pci/devices/0000:01:00.0/numa_node\n",
      "Your kernel may have been built without NUMA support.\n",
      "2023-10-09 09:44:26.258717: I tensorflow/compiler/xla/stream_executor/cuda/cuda_gpu_executor.cc:981] could not open file to read NUMA node: /sys/bus/pci/devices/0000:01:00.0/numa_node\n",
      "Your kernel may have been built without NUMA support.\n",
      "2023-10-09 09:44:26.258733: I tensorflow/core/common_runtime/gpu/gpu_device.cc:1726] Could not identify NUMA node of platform GPU id 0, defaulting to 0.  Your kernel may not have been built with NUMA support.\n",
      "2023-10-09 09:44:26.259992: I tensorflow/compiler/xla/stream_executor/cuda/cuda_gpu_executor.cc:981] could not open file to read NUMA node: /sys/bus/pci/devices/0000:01:00.0/numa_node\n",
      "Your kernel may have been built without NUMA support.\n",
      "2023-10-09 09:44:26.260035: I tensorflow/core/common_runtime/gpu/gpu_device.cc:1639] Created device /job:localhost/replica:0/task:0/device:GPU:0 with 1505 MB memory:  -> device: 0, name: NVIDIA GeForce RTX 3050 Ti Laptop GPU, pci bus id: 0000:01:00.0, compute capability: 8.6\n"
     ]
    }
   ],
   "source": [
    "cnn = CNN()\n",
    "tr_iter, ts_iter = get_mnist_iter()"
   ]
  },
  {
   "cell_type": "code",
   "execution_count": 10,
   "metadata": {},
   "outputs": [
    {
     "name": "stdout",
     "output_type": "stream",
     "text": [
      "(32,) (32,)\n",
      "0.03125\n"
     ]
    }
   ],
   "source": [
    "fetcher = next(tr_iter)\n",
    "target, label = fetcher['images'], fetcher['labels']\n",
    "\n",
    "label = tf.reshape(label, [-1])\n",
    "\n",
    "pred = tf.math.argmax(cnn(target), axis=-1)\n",
    "acc = tf.keras.metrics.Accuracy()\n",
    "acc.update_state(pred, label)\n",
    "print(pred.shape, label.shape)\n",
    "print(acc.result().numpy())"
   ]
  }
 ],
 "metadata": {
  "kernelspec": {
   "display_name": "Python 3",
   "language": "python",
   "name": "python3"
  },
  "language_info": {
   "codemirror_mode": {
    "name": "ipython",
    "version": 3
   },
   "file_extension": ".py",
   "mimetype": "text/x-python",
   "name": "python",
   "nbconvert_exporter": "python",
   "pygments_lexer": "ipython3",
   "version": "3.11.5"
  },
  "orig_nbformat": 4
 },
 "nbformat": 4,
 "nbformat_minor": 2
}
