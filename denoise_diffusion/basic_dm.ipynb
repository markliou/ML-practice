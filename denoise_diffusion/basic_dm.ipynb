{
 "cells": [
  {
   "cell_type": "code",
   "execution_count": 4,
   "metadata": {},
   "outputs": [
    {
     "name": "stdout",
     "output_type": "stream",
     "text": [
      "{'file_name': TensorSpec(shape=(), dtype=tf.string, name=None), 'image': TensorSpec(shape=(None, None, 3), dtype=tf.uint8, name=None), 'label': TensorSpec(shape=(), dtype=tf.int64, name=None)}\n",
      "(32, 256, 256, 3)\n"
     ]
    },
    {
     "name": "stderr",
     "output_type": "stream",
     "text": [
      "2023-04-01 17:10:56.111062: I tensorflow/core/common_runtime/executor.cc:1197] [/device:CPU:0] (DEBUG INFO) Executor start aborting (this does not indicate an error and you can ignore this message): INVALID_ARGUMENT: You must feed a value for placeholder tensor 'Placeholder/_2' with dtype string and shape [1]\n",
      "\t [[{{node Placeholder/_2}}]]\n",
      "2023-04-01 17:10:56.111488: I tensorflow/core/common_runtime/executor.cc:1197] [/device:CPU:0] (DEBUG INFO) Executor start aborting (this does not indicate an error and you can ignore this message): INVALID_ARGUMENT: You must feed a value for placeholder tensor 'Placeholder/_3' with dtype int64 and shape [1]\n",
      "\t [[{{node Placeholder/_3}}]]\n"
     ]
    }
   ],
   "source": [
    "import tensorflow as tf\n",
    "import jax.numpy as jnp\n",
    "import numpy as np\n",
    "\n",
    "import matplotlib.pyplot as plt\n",
    "import tensorflow_datasets as tfds\n",
    "\n",
    "batch_size = 32\n",
    "learning_rate = 10e-4\n",
    "\n",
    "# loading the dataset\n",
    "ds_tr, ds_ts, ds_val = tfds.load('oxford_flowers102', split=['train', 'test', 'validation'], shuffle_files=True)\n",
    "\n",
    "# browsing dataset\n",
    "print(ds_tr.element_spec)\n",
    "\n",
    "# set the information of dataset\n",
    "ds_tr = ds_tr.prefetch(tf.data.AUTOTUNE)\n",
    "ds_tr = ds_tr.map(lambda x: tf.image.resize_with_crop_or_pad(x['image'], 256, 256)) \n",
    "ds_tr = ds_tr.batch(32, True) # \"batch\"只能疊shape一樣的tensor。所以統一shape的map function要先做\n",
    "\n",
    "# make the iterator\n",
    "ds_tr_iter = iter(ds_tr)\n",
    "\n",
    "ds_tr_ele = ds_tr_iter.get_next()\n",
    "print(ds_tr_ele.shape)\n"
   ]
  }
 ],
 "metadata": {
  "kernelspec": {
   "display_name": "Python 3",
   "language": "python",
   "name": "python3"
  },
  "language_info": {
   "codemirror_mode": {
    "name": "ipython",
    "version": 3
   },
   "file_extension": ".py",
   "mimetype": "text/x-python",
   "name": "python",
   "nbconvert_exporter": "python",
   "pygments_lexer": "ipython3",
   "version": "3.8.10"
  },
  "orig_nbformat": 4,
  "vscode": {
   "interpreter": {
    "hash": "916dbcbb3f70747c44a77c7bcd40155683ae19c65e1c03b4aa3499c5328201f1"
   }
  }
 },
 "nbformat": 4,
 "nbformat_minor": 2
}
